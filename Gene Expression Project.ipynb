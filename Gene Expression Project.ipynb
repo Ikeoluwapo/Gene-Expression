{
 "cells": [
  {
   "cell_type": "code",
   "execution_count": 1,
   "id": "fd93a428",
   "metadata": {},
   "outputs": [],
   "source": [
    "import numpy as np\n",
    "import pandas as pd\n",
    "import matplotlib.pyplot as plt\n",
    "import seaborn as sns"
   ]
  },
  {
   "cell_type": "code",
   "execution_count": 65,
   "id": "f3eb60dd",
   "metadata": {},
   "outputs": [
    {
     "data": {
      "text/html": [
       "<div>\n",
       "<style scoped>\n",
       "    .dataframe tbody tr th:only-of-type {\n",
       "        vertical-align: middle;\n",
       "    }\n",
       "\n",
       "    .dataframe tbody tr th {\n",
       "        vertical-align: top;\n",
       "    }\n",
       "\n",
       "    .dataframe thead th {\n",
       "        text-align: right;\n",
       "    }\n",
       "</style>\n",
       "<table border=\"1\" class=\"dataframe\">\n",
       "  <thead>\n",
       "    <tr style=\"text-align: right;\">\n",
       "      <th></th>\n",
       "      <th>Gene One</th>\n",
       "      <th>Gene Two</th>\n",
       "      <th>Cancer Present</th>\n",
       "    </tr>\n",
       "  </thead>\n",
       "  <tbody>\n",
       "    <tr>\n",
       "      <th>0</th>\n",
       "      <td>4.3</td>\n",
       "      <td>3.9</td>\n",
       "      <td>1</td>\n",
       "    </tr>\n",
       "    <tr>\n",
       "      <th>1</th>\n",
       "      <td>2.5</td>\n",
       "      <td>6.3</td>\n",
       "      <td>0</td>\n",
       "    </tr>\n",
       "    <tr>\n",
       "      <th>2</th>\n",
       "      <td>5.7</td>\n",
       "      <td>3.9</td>\n",
       "      <td>1</td>\n",
       "    </tr>\n",
       "    <tr>\n",
       "      <th>3</th>\n",
       "      <td>6.1</td>\n",
       "      <td>6.2</td>\n",
       "      <td>0</td>\n",
       "    </tr>\n",
       "  </tbody>\n",
       "</table>\n",
       "</div>"
      ],
      "text/plain": [
       "   Gene One  Gene Two  Cancer Present\n",
       "0       4.3       3.9               1\n",
       "1       2.5       6.3               0\n",
       "2       5.7       3.9               1\n",
       "3       6.1       6.2               0"
      ]
     },
     "execution_count": 65,
     "metadata": {},
     "output_type": "execute_result"
    }
   ],
   "source": [
    "gene = pd.read_csv(\"gene_expression.csv\")\n",
    "gene[:4]"
   ]
  },
  {
   "cell_type": "code",
   "execution_count": 3,
   "id": "41d036d8",
   "metadata": {},
   "outputs": [
    {
     "data": {
      "text/html": [
       "<div>\n",
       "<style scoped>\n",
       "    .dataframe tbody tr th:only-of-type {\n",
       "        vertical-align: middle;\n",
       "    }\n",
       "\n",
       "    .dataframe tbody tr th {\n",
       "        vertical-align: top;\n",
       "    }\n",
       "\n",
       "    .dataframe thead th {\n",
       "        text-align: right;\n",
       "    }\n",
       "</style>\n",
       "<table border=\"1\" class=\"dataframe\">\n",
       "  <thead>\n",
       "    <tr style=\"text-align: right;\">\n",
       "      <th></th>\n",
       "      <th>Gene One</th>\n",
       "      <th>Gene Two</th>\n",
       "      <th>Cancer Present</th>\n",
       "    </tr>\n",
       "  </thead>\n",
       "  <tbody>\n",
       "    <tr>\n",
       "      <th>count</th>\n",
       "      <td>3000.000000</td>\n",
       "      <td>3000.000000</td>\n",
       "      <td>3000.000000</td>\n",
       "    </tr>\n",
       "    <tr>\n",
       "      <th>mean</th>\n",
       "      <td>5.600133</td>\n",
       "      <td>5.410467</td>\n",
       "      <td>0.500000</td>\n",
       "    </tr>\n",
       "    <tr>\n",
       "      <th>std</th>\n",
       "      <td>1.828388</td>\n",
       "      <td>1.729081</td>\n",
       "      <td>0.500083</td>\n",
       "    </tr>\n",
       "    <tr>\n",
       "      <th>min</th>\n",
       "      <td>1.000000</td>\n",
       "      <td>1.000000</td>\n",
       "      <td>0.000000</td>\n",
       "    </tr>\n",
       "    <tr>\n",
       "      <th>25%</th>\n",
       "      <td>4.300000</td>\n",
       "      <td>4.000000</td>\n",
       "      <td>0.000000</td>\n",
       "    </tr>\n",
       "    <tr>\n",
       "      <th>50%</th>\n",
       "      <td>5.600000</td>\n",
       "      <td>5.400000</td>\n",
       "      <td>0.500000</td>\n",
       "    </tr>\n",
       "    <tr>\n",
       "      <th>75%</th>\n",
       "      <td>6.900000</td>\n",
       "      <td>6.700000</td>\n",
       "      <td>1.000000</td>\n",
       "    </tr>\n",
       "    <tr>\n",
       "      <th>max</th>\n",
       "      <td>10.000000</td>\n",
       "      <td>10.000000</td>\n",
       "      <td>1.000000</td>\n",
       "    </tr>\n",
       "  </tbody>\n",
       "</table>\n",
       "</div>"
      ],
      "text/plain": [
       "          Gene One     Gene Two  Cancer Present\n",
       "count  3000.000000  3000.000000     3000.000000\n",
       "mean      5.600133     5.410467        0.500000\n",
       "std       1.828388     1.729081        0.500083\n",
       "min       1.000000     1.000000        0.000000\n",
       "25%       4.300000     4.000000        0.000000\n",
       "50%       5.600000     5.400000        0.500000\n",
       "75%       6.900000     6.700000        1.000000\n",
       "max      10.000000    10.000000        1.000000"
      ]
     },
     "execution_count": 3,
     "metadata": {},
     "output_type": "execute_result"
    }
   ],
   "source": [
    "gene.describe() #There seem to be no outlier"
   ]
  },
  {
   "cell_type": "code",
   "execution_count": 4,
   "id": "f0ed2b9c",
   "metadata": {},
   "outputs": [
    {
     "data": {
      "text/plain": [
       "Gene One          float64\n",
       "Gene Two          float64\n",
       "Cancer Present      int64\n",
       "dtype: object"
      ]
     },
     "execution_count": 4,
     "metadata": {},
     "output_type": "execute_result"
    }
   ],
   "source": [
    "gene.dtypes"
   ]
  },
  {
   "cell_type": "code",
   "execution_count": 5,
   "id": "082c3b89",
   "metadata": {},
   "outputs": [
    {
     "data": {
      "text/plain": [
       "Gene One          0\n",
       "Gene Two          0\n",
       "Cancer Present    0\n",
       "dtype: int64"
      ]
     },
     "execution_count": 5,
     "metadata": {},
     "output_type": "execute_result"
    }
   ],
   "source": [
    "gene.isna().sum() #No missing data"
   ]
  },
  {
   "cell_type": "code",
   "execution_count": 6,
   "id": "4e1c6261",
   "metadata": {},
   "outputs": [
    {
     "data": {
      "text/plain": [
       "Gene One          10.0\n",
       "Gene Two          10.0\n",
       "Cancer Present     1.0\n",
       "dtype: float64"
      ]
     },
     "execution_count": 6,
     "metadata": {},
     "output_type": "execute_result"
    }
   ],
   "source": [
    "gene.max()"
   ]
  },
  {
   "cell_type": "code",
   "execution_count": 8,
   "id": "eb7302ae",
   "metadata": {},
   "outputs": [
    {
     "data": {
      "text/plain": [
       "array([[4.3, 3.9],\n",
       "       [2.5, 6.3],\n",
       "       [5.7, 3.9]])"
      ]
     },
     "execution_count": 8,
     "metadata": {},
     "output_type": "execute_result"
    }
   ],
   "source": [
    "#Seperate dependant and independant varaiables\n",
    "x = gene.iloc[:, 0:-1].values\n",
    "y = gene.iloc[:, -1].values\n",
    "x[:3]"
   ]
  },
  {
   "cell_type": "code",
   "execution_count": 63,
   "id": "18325a69",
   "metadata": {},
   "outputs": [
    {
     "data": {
      "text/plain": [
       "array([[7.7, 4.1],\n",
       "       [5.3, 2.8],\n",
       "       [8.9, 4.2],\n",
       "       [3.3, 5.7],\n",
       "       [4.7, 7.3]])"
      ]
     },
     "execution_count": 63,
     "metadata": {},
     "output_type": "execute_result"
    }
   ],
   "source": [
    "# Split for training and testing\n",
    "\n",
    "from sklearn.model_selection import train_test_split\n",
    "x_train, x_test, y_train, y_test = train_test_split(x, y, test_size=0.25, random_state=42)\n",
    "x_test[:5]"
   ]
  },
  {
   "cell_type": "code",
   "execution_count": 12,
   "id": "79b766fa",
   "metadata": {},
   "outputs": [
    {
     "data": {
      "text/plain": [
       "(750, 2)"
      ]
     },
     "execution_count": 12,
     "metadata": {},
     "output_type": "execute_result"
    }
   ],
   "source": [
    "x_test.shape"
   ]
  },
  {
   "cell_type": "code",
   "execution_count": 13,
   "id": "a99454bd",
   "metadata": {},
   "outputs": [
    {
     "data": {
      "text/plain": [
       "(2250, 2)"
      ]
     },
     "execution_count": 13,
     "metadata": {},
     "output_type": "execute_result"
    }
   ],
   "source": [
    "x_train.shape"
   ]
  },
  {
   "cell_type": "code",
   "execution_count": 67,
   "id": "18960eac",
   "metadata": {},
   "outputs": [
    {
     "data": {
      "text/html": [
       "<div>\n",
       "<style scoped>\n",
       "    .dataframe tbody tr th:only-of-type {\n",
       "        vertical-align: middle;\n",
       "    }\n",
       "\n",
       "    .dataframe tbody tr th {\n",
       "        vertical-align: top;\n",
       "    }\n",
       "\n",
       "    .dataframe thead th {\n",
       "        text-align: right;\n",
       "    }\n",
       "</style>\n",
       "<table border=\"1\" class=\"dataframe\">\n",
       "  <thead>\n",
       "    <tr style=\"text-align: right;\">\n",
       "      <th></th>\n",
       "      <th>Gene One</th>\n",
       "      <th>Gene Two</th>\n",
       "      <th>y_test</th>\n",
       "      <th>y_predict</th>\n",
       "    </tr>\n",
       "  </thead>\n",
       "  <tbody>\n",
       "    <tr>\n",
       "      <th>0</th>\n",
       "      <td>7.7</td>\n",
       "      <td>4.1</td>\n",
       "      <td>1</td>\n",
       "      <td>1</td>\n",
       "    </tr>\n",
       "    <tr>\n",
       "      <th>1</th>\n",
       "      <td>5.3</td>\n",
       "      <td>2.8</td>\n",
       "      <td>1</td>\n",
       "      <td>1</td>\n",
       "    </tr>\n",
       "    <tr>\n",
       "      <th>2</th>\n",
       "      <td>8.9</td>\n",
       "      <td>4.2</td>\n",
       "      <td>1</td>\n",
       "      <td>1</td>\n",
       "    </tr>\n",
       "    <tr>\n",
       "      <th>3</th>\n",
       "      <td>3.3</td>\n",
       "      <td>5.7</td>\n",
       "      <td>0</td>\n",
       "      <td>0</td>\n",
       "    </tr>\n",
       "    <tr>\n",
       "      <th>4</th>\n",
       "      <td>4.7</td>\n",
       "      <td>7.3</td>\n",
       "      <td>0</td>\n",
       "      <td>0</td>\n",
       "    </tr>\n",
       "    <tr>\n",
       "      <th>...</th>\n",
       "      <td>...</td>\n",
       "      <td>...</td>\n",
       "      <td>...</td>\n",
       "      <td>...</td>\n",
       "    </tr>\n",
       "    <tr>\n",
       "      <th>745</th>\n",
       "      <td>8.9</td>\n",
       "      <td>5.3</td>\n",
       "      <td>1</td>\n",
       "      <td>1</td>\n",
       "    </tr>\n",
       "    <tr>\n",
       "      <th>746</th>\n",
       "      <td>6.3</td>\n",
       "      <td>4.3</td>\n",
       "      <td>1</td>\n",
       "      <td>1</td>\n",
       "    </tr>\n",
       "    <tr>\n",
       "      <th>747</th>\n",
       "      <td>6.9</td>\n",
       "      <td>3.3</td>\n",
       "      <td>1</td>\n",
       "      <td>1</td>\n",
       "    </tr>\n",
       "    <tr>\n",
       "      <th>748</th>\n",
       "      <td>5.8</td>\n",
       "      <td>6.1</td>\n",
       "      <td>0</td>\n",
       "      <td>0</td>\n",
       "    </tr>\n",
       "    <tr>\n",
       "      <th>749</th>\n",
       "      <td>4.9</td>\n",
       "      <td>4.4</td>\n",
       "      <td>1</td>\n",
       "      <td>1</td>\n",
       "    </tr>\n",
       "  </tbody>\n",
       "</table>\n",
       "<p>750 rows × 4 columns</p>\n",
       "</div>"
      ],
      "text/plain": [
       "     Gene One  Gene Two  y_test  y_predict\n",
       "0         7.7       4.1       1          1\n",
       "1         5.3       2.8       1          1\n",
       "2         8.9       4.2       1          1\n",
       "3         3.3       5.7       0          0\n",
       "4         4.7       7.3       0          0\n",
       "..        ...       ...     ...        ...\n",
       "745       8.9       5.3       1          1\n",
       "746       6.3       4.3       1          1\n",
       "747       6.9       3.3       1          1\n",
       "748       5.8       6.1       0          0\n",
       "749       4.9       4.4       1          1\n",
       "\n",
       "[750 rows x 4 columns]"
      ]
     },
     "execution_count": 67,
     "metadata": {},
     "output_type": "execute_result"
    }
   ],
   "source": [
    "# Merging the test and prediction\n",
    "x_test_df = pd.DataFrame(x_test).rename(columns = {0: \"Gene One\", 1: \"Gene Two\"})\n",
    "y_test_df = pd.DataFrame(y_test).rename(columns = {0: \"y_test\"})\n",
    "y_predict_df = pd.DataFrame(y_predict).rename(columns = {0: \"y_predict\"})\n",
    "\n",
    "pd.concat([x_test_df,y_test_df, y_predict_df], axis = 1)"
   ]
  },
  {
   "cell_type": "markdown",
   "id": "69abb084",
   "metadata": {},
   "source": [
    "#### USING KNN"
   ]
  },
  {
   "cell_type": "code",
   "execution_count": 16,
   "id": "5522aada",
   "metadata": {},
   "outputs": [
    {
     "data": {
      "text/plain": [
       "[0.10399999999999998,\n",
       " 0.10266666666666668,\n",
       " 0.07199999999999995,\n",
       " 0.07866666666666666,\n",
       " 0.07333333333333336,\n",
       " 0.07333333333333336,\n",
       " 0.06799999999999995,\n",
       " 0.07066666666666666,\n",
       " 0.06533333333333335]"
      ]
     },
     "execution_count": 16,
     "metadata": {},
     "output_type": "execute_result"
    }
   ],
   "source": [
    "from sklearn.neighbors import KNeighborsClassifier\n",
    "from sklearn.metrics import accuracy_score, confusion_matrix\n",
    "model = KNeighborsClassifier()\n",
    "# Elbow method to know the value for k, by default k is 5\n",
    "test_error_rates = []\n",
    "for k in range(1, 10):\n",
    "    knn_model = KNeighborsClassifier(n_neighbors=k)\n",
    "    knn_model.fit(x_train, y_train)\n",
    "    y_pred_test = knn_model.predict(x_test)\n",
    "    test_error = 1 - accuracy_score(y_test, y_pred_test)\n",
    "    test_error_rates.append(test_error)\n",
    "test_error_rates #The best k value is 8"
   ]
  },
  {
   "cell_type": "code",
   "execution_count": 18,
   "id": "16cde8f9",
   "metadata": {},
   "outputs": [
    {
     "data": {
      "text/plain": [
       "array([1, 1, 1], dtype=int64)"
      ]
     },
     "execution_count": 18,
     "metadata": {},
     "output_type": "execute_result"
    }
   ],
   "source": [
    "from sklearn.neighbors import KNeighborsClassifier\n",
    "model = KNeighborsClassifier(n_neighbors=8, weights='uniform',algorithm='auto',leaf_size=30,p=2,metric='minkowski')\n",
    "model.fit(x_train, y_train)\n",
    "y_predict = model.predict(x_test)\n",
    "y_predict[:3]"
   ]
  },
  {
   "cell_type": "code",
   "execution_count": 19,
   "id": "a2f846f4",
   "metadata": {},
   "outputs": [
    {
     "name": "stdout",
     "output_type": "stream",
     "text": [
      " The accuracy score = 92.93%\n"
     ]
    },
    {
     "data": {
      "text/plain": [
       "array([[381,  20],\n",
       "       [ 33, 316]], dtype=int64)"
      ]
     },
     "execution_count": 19,
     "metadata": {},
     "output_type": "execute_result"
    }
   ],
   "source": [
    "# Check accuracy\n",
    "from sklearn.metrics import accuracy_score, confusion_matrix \n",
    "print(f\" The accuracy score = {accuracy_score(y_test, y_predict) * 100:0.2f}%\")\n",
    "confusion_matrix(y_test, y_predict)"
   ]
  },
  {
   "cell_type": "markdown",
   "id": "51feeff3",
   "metadata": {},
   "source": [
    "#### USING DECISION TREE"
   ]
  },
  {
   "cell_type": "code",
   "execution_count": 28,
   "id": "6cd97ff3",
   "metadata": {},
   "outputs": [
    {
     "data": {
      "text/plain": [
       "array([1, 1, 1, 0, 0], dtype=int64)"
      ]
     },
     "execution_count": 28,
     "metadata": {},
     "output_type": "execute_result"
    }
   ],
   "source": [
    "from sklearn.tree import DecisionTreeClassifier\n",
    "model2 = DecisionTreeClassifier(criterion='entropy',splitter='random', random_state= 12)\n",
    "model2.fit(x_train, y_train)\n",
    "y_predict2 = model2.predict(x_test)\n",
    "y_predict2[:5]"
   ]
  },
  {
   "cell_type": "code",
   "execution_count": 29,
   "id": "cb479d98",
   "metadata": {},
   "outputs": [
    {
     "name": "stdout",
     "output_type": "stream",
     "text": [
      " The accuracy score = 88.67%\n"
     ]
    },
    {
     "data": {
      "text/plain": [
       "array([[364,  37],\n",
       "       [ 48, 301]], dtype=int64)"
      ]
     },
     "execution_count": 29,
     "metadata": {},
     "output_type": "execute_result"
    }
   ],
   "source": [
    "# Check accuracy\n",
    "from sklearn.metrics import accuracy_score, confusion_matrix \n",
    "print(f\" The accuracy score = {accuracy_score(y_test, y_predict2) * 100:0.2f}%\")\n",
    "confusion_matrix(y_test, y_predict2)"
   ]
  },
  {
   "cell_type": "markdown",
   "id": "ebce5c7c",
   "metadata": {},
   "source": [
    "#### USING RANDOM FOREST"
   ]
  },
  {
   "cell_type": "code",
   "execution_count": 41,
   "id": "33c98bb0",
   "metadata": {},
   "outputs": [
    {
     "data": {
      "text/plain": [
       "array([1, 1, 1], dtype=int64)"
      ]
     },
     "execution_count": 41,
     "metadata": {},
     "output_type": "execute_result"
    }
   ],
   "source": [
    "from sklearn.ensemble import RandomForestClassifier\n",
    "classifier = RandomForestClassifier(n_estimators=10, criterion= \"gini\", random_state=0)\n",
    "classifier.fit(x_train, y_train)\n",
    "y_predict3 = classifier.predict(x_test)\n",
    "y_predict3[:3]"
   ]
  },
  {
   "cell_type": "code",
   "execution_count": 42,
   "id": "e380e22c",
   "metadata": {},
   "outputs": [
    {
     "name": "stdout",
     "output_type": "stream",
     "text": [
      " The accuracy score = 91.33%\n"
     ]
    },
    {
     "data": {
      "text/plain": [
       "array([[369,  32],\n",
       "       [ 33, 316]], dtype=int64)"
      ]
     },
     "execution_count": 42,
     "metadata": {},
     "output_type": "execute_result"
    }
   ],
   "source": [
    "# Check accuracy\n",
    "from sklearn.metrics import accuracy_score, confusion_matrix \n",
    "print(f\" The accuracy score = {accuracy_score(y_test, y_predict3) * 100:0.2f}%\")\n",
    "confusion_matrix(y_test, y_predict3)"
   ]
  },
  {
   "cell_type": "markdown",
   "id": "d1d0df1f",
   "metadata": {},
   "source": [
    "#### USING LOGISTIC REGRESSION"
   ]
  },
  {
   "cell_type": "code",
   "execution_count": 56,
   "id": "456ed47f",
   "metadata": {},
   "outputs": [
    {
     "data": {
      "text/plain": [
       "array([1, 1, 1], dtype=int64)"
      ]
     },
     "execution_count": 56,
     "metadata": {},
     "output_type": "execute_result"
    }
   ],
   "source": [
    "#Training the model\n",
    "from sklearn.linear_model import LogisticRegression\n",
    "Log_model = LogisticRegression(penalty = 'l2',solver = 'newton-cg', random_state= 0) \n",
    "#random_State is optional #recall:to seed in numpy; np.random.seed(23) before np.random.randint(1,3,2)\n",
    "\n",
    "#Fit to train model\n",
    "Log_model.fit(x_train, y_train)\n",
    "y_predict4 = Log_model.predict(x_test)\n",
    "y_predict4[:3]"
   ]
  },
  {
   "cell_type": "code",
   "execution_count": 57,
   "id": "78aeb47f",
   "metadata": {},
   "outputs": [
    {
     "name": "stdout",
     "output_type": "stream",
     "text": [
      " The accuracy score = 85.20%\n"
     ]
    },
    {
     "data": {
      "text/plain": [
       "array([[340,  61],\n",
       "       [ 50, 299]], dtype=int64)"
      ]
     },
     "execution_count": 57,
     "metadata": {},
     "output_type": "execute_result"
    }
   ],
   "source": [
    "# Check accuracy\n",
    "from sklearn.metrics import accuracy_score, confusion_matrix \n",
    "print(f\" The accuracy score = {accuracy_score(y_test, y_predict4) * 100:0.2f}%\")\n",
    "confusion_matrix(y_test, y_predict4)"
   ]
  },
  {
   "cell_type": "markdown",
   "id": "b2e3faad",
   "metadata": {},
   "source": [
    "#### USING SUPPORT VECTOR MACHINE"
   ]
  },
  {
   "cell_type": "code",
   "execution_count": 58,
   "id": "a5486eba",
   "metadata": {},
   "outputs": [
    {
     "data": {
      "text/plain": [
       "array([1, 1, 1, 0], dtype=int64)"
      ]
     },
     "execution_count": 58,
     "metadata": {},
     "output_type": "execute_result"
    }
   ],
   "source": [
    "from sklearn.svm import SVC\n",
    "model_SV = SVC()\n",
    "model_SV.fit(x_train, y_train)\n",
    "y_predict5 = model_SV.predict(x_test)\n",
    "y_predict5[:4]"
   ]
  },
  {
   "cell_type": "code",
   "execution_count": 59,
   "id": "827c2374",
   "metadata": {},
   "outputs": [
    {
     "name": "stdout",
     "output_type": "stream",
     "text": [
      " The accuracy score = 94.53%\n"
     ]
    },
    {
     "data": {
      "text/plain": [
       "array([[384,  17],\n",
       "       [ 24, 325]], dtype=int64)"
      ]
     },
     "execution_count": 59,
     "metadata": {},
     "output_type": "execute_result"
    }
   ],
   "source": [
    "from sklearn.metrics import accuracy_score, confusion_matrix \n",
    "print(f\" The accuracy score = {accuracy_score(y_test, y_predict5) * 100:0.2f}%\")\n",
    "confusion_matrix(y_test, y_predict5)"
   ]
  },
  {
   "cell_type": "markdown",
   "id": "3d3b992f",
   "metadata": {},
   "source": [
    "#### USING NAIVES BAYES"
   ]
  },
  {
   "cell_type": "code",
   "execution_count": 60,
   "id": "b28ecdd2",
   "metadata": {},
   "outputs": [
    {
     "data": {
      "text/plain": [
       "array([1, 1, 1, 0], dtype=int64)"
      ]
     },
     "execution_count": 60,
     "metadata": {},
     "output_type": "execute_result"
    }
   ],
   "source": [
    "from sklearn.naive_bayes import GaussianNB\n",
    "Gu_model = GaussianNB()\n",
    "Gu_model.fit(x_train, y_train)\n",
    "y_predict6 = Gu_model.predict(x_test)\n",
    "y_predict6[:4]"
   ]
  },
  {
   "cell_type": "code",
   "execution_count": 61,
   "id": "0a5828ac",
   "metadata": {},
   "outputs": [
    {
     "name": "stdout",
     "output_type": "stream",
     "text": [
      " The accuracy score = 84.80%\n"
     ]
    },
    {
     "data": {
      "text/plain": [
       "array([[338,  63],\n",
       "       [ 51, 298]], dtype=int64)"
      ]
     },
     "execution_count": 61,
     "metadata": {},
     "output_type": "execute_result"
    }
   ],
   "source": [
    "from sklearn.metrics import accuracy_score, confusion_matrix \n",
    "print(f\" The accuracy score = {accuracy_score(y_test, y_predict6) * 100:0.2f}%\")\n",
    "confusion_matrix(y_test, y_predict6)"
   ]
  },
  {
   "cell_type": "code",
   "execution_count": 62,
   "id": "44749478",
   "metadata": {},
   "outputs": [
    {
     "data": {
      "text/plain": [
       "array([1], dtype=int64)"
      ]
     },
     "execution_count": 62,
     "metadata": {},
     "output_type": "execute_result"
    }
   ],
   "source": [
    "#Support Vector Machine seems to have the best accuracy score so it should be used\n",
    "model_SV.predict([[5.7,3.9]])"
   ]
  },
  {
   "cell_type": "code",
   "execution_count": 70,
   "id": "c6eb57b4",
   "metadata": {},
   "outputs": [
    {
     "data": {
      "text/plain": [
       "array([0], dtype=int64)"
      ]
     },
     "execution_count": 70,
     "metadata": {},
     "output_type": "execute_result"
    }
   ],
   "source": [
    "model_SV.predict([[5.8,6.1]])"
   ]
  },
  {
   "cell_type": "code",
   "execution_count": null,
   "id": "192ec814",
   "metadata": {},
   "outputs": [],
   "source": []
  }
 ],
 "metadata": {
  "kernelspec": {
   "display_name": "Python 3 (ipykernel)",
   "language": "python",
   "name": "python3"
  },
  "language_info": {
   "codemirror_mode": {
    "name": "ipython",
    "version": 3
   },
   "file_extension": ".py",
   "mimetype": "text/x-python",
   "name": "python",
   "nbconvert_exporter": "python",
   "pygments_lexer": "ipython3",
   "version": "3.11.4"
  }
 },
 "nbformat": 4,
 "nbformat_minor": 5
}
